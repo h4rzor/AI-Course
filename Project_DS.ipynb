{
 "cells": [
  {
   "cell_type": "markdown",
   "id": "0f1661b6",
   "metadata": {},
   "source": [
    "<center>\n",
    "    <h2>Hit songs throughout the years and what makes them so popular.<h2>\n",
    "    <h3>Milen Stanislavov Stanev<h3>\n",
    "<center>"
   ]
  },
  {
   "cell_type": "markdown",
   "id": "7d9f673a",
   "metadata": {},
   "source": [
    "<center>\n",
    "    <h3>Introduction:<h3>\n",
    "    <h6>In this notebook I will try to answer the question - What makes the popular songs popular, if it something to do with the danceability of the song or how loud a song is. Throughout the years many different songs with different parameters have managed to go the top charts position, but there should be a pattern, right? This is the question I'm going to try to answer in this project.<h6>\n",
    "<center>"
   ]
  },
  {
   "cell_type": "code",
   "execution_count": 1,
   "id": "ab23991f",
   "metadata": {},
   "outputs": [
    {
     "name": "stderr",
     "output_type": "stream",
     "text": [
      "2022-08-25 14:00:51.630927: I tensorflow/core/util/util.cc:169] oneDNN custom operations are on. You may see slightly different numerical results due to floating-point round-off errors from different computation orders. To turn them off, set the environment variable `TF_ENABLE_ONEDNN_OPTS=0`.\n",
      "2022-08-25 14:00:51.634051: W tensorflow/stream_executor/platform/default/dso_loader.cc:64] Could not load dynamic library 'libcudart.so.11.0'; dlerror: libcudart.so.11.0: cannot open shared object file: No such file or directory\n",
      "2022-08-25 14:00:51.634059: I tensorflow/stream_executor/cuda/cudart_stub.cc:29] Ignore above cudart dlerror if you do not have a GPU set up on your machine.\n"
     ]
    }
   ],
   "source": [
    "import pandas as pd\n",
    "import numpy as np\n",
    "import math\n",
    "import matplotlib.pyplot as plt\n",
    "import glob\n",
    "import os\n",
    "import seaborn as sns\n",
    "from sklearn.preprocessing import LabelEncoder \n",
    "from sklearn.model_selection import train_test_split\n",
    "from sklearn.preprocessing import StandardScaler\n",
    "from keras.models import Sequential\n",
    "from keras.layers import Dense, Input, Dropout\n",
    "from sklearn.metrics import confusion_matrix\n",
    "import json"
   ]
  },
  {
   "cell_type": "code",
   "execution_count": 2,
   "id": "90fa4ae6",
   "metadata": {},
   "outputs": [],
   "source": [
    "def download_dataset():\n",
    "    json_object = json.dumps({\"username\":\"milenstanev\",\"key\":\"056d6edcc8cd5430231b2d4b0aff6cfe\"})\n",
    "    with open(\"kaggle.json\", \"w\") as outfile:\n",
    "        outfile.write(json_object)\n",
    "    !pip install -q kaggle \n",
    "    !mkdir train\n",
    "    !mkdir -p ~/.kaggle\n",
    "    ! cp kaggle.json ~/.kaggle/\n",
    "    ! chmod 600 ~/.kaggle/kaggle.json\n",
    "    !kaggle datasets download -d \"theoverman/the-spotify-hit-predictor-dataset\"\n",
    "    !unzip the-spotify-hit-predictor-dataset -d train"
   ]
  },
  {
   "cell_type": "code",
   "execution_count": 3,
   "id": "5fb84bfe",
   "metadata": {},
   "outputs": [
    {
     "name": "stdout",
     "output_type": "stream",
     "text": [
      "Downloading the-spotify-hit-predictor-dataset.zip to /home/h4rzor/Desktop/things_to_move/final\n",
      " 97%|████████████████████████████████████▉ | 3.00M/3.09M [00:01<00:00, 2.33MB/s]\n",
      "100%|██████████████████████████████████████| 3.09M/3.09M [00:01<00:00, 2.42MB/s]\n",
      "Archive:  the-spotify-hit-predictor-dataset.zip\n",
      "  inflating: train/LICENSE           \n",
      "  inflating: train/README.txt        \n",
      "  inflating: train/dataset-of-00s.csv  \n",
      "  inflating: train/dataset-of-10s.csv  \n",
      "  inflating: train/dataset-of-60s.csv  \n",
      "  inflating: train/dataset-of-70s.csv  \n",
      "  inflating: train/dataset-of-80s.csv  \n",
      "  inflating: train/dataset-of-90s.csv  \n"
     ]
    }
   ],
   "source": [
    "download_dataset()\n",
    "path = r'train'\n",
    "all_files = glob.glob(os.path.join(path, \"*.csv\"))"
   ]
  },
  {
   "cell_type": "code",
   "execution_count": 4,
   "id": "50e9aa60",
   "metadata": {},
   "outputs": [],
   "source": [
    "df_from_each_file = (pd.read_csv(f) for f in all_files)"
   ]
  },
  {
   "cell_type": "code",
   "execution_count": 5,
   "id": "0c917090",
   "metadata": {},
   "outputs": [],
   "source": [
    "concatenated_df = pd.concat(df_from_each_file, ignore_index=True)\n",
    "train_df = concatenated_df.copy()"
   ]
  },
  {
   "cell_type": "code",
   "execution_count": 6,
   "id": "9a9ebaee",
   "metadata": {},
   "outputs": [
    {
     "data": {
      "text/plain": [
       "Index(['track', 'artist', 'uri', 'danceability', 'energy', 'key', 'loudness',\n",
       "       'mode', 'speechiness', 'acousticness', 'instrumentalness', 'liveness',\n",
       "       'valence', 'tempo', 'duration_ms', 'time_signature', 'chorus_hit',\n",
       "       'sections', 'target'],\n",
       "      dtype='object')"
      ]
     },
     "execution_count": 6,
     "metadata": {},
     "output_type": "execute_result"
    }
   ],
   "source": [
    "concatenated_df.columns"
   ]
  },
  {
   "cell_type": "code",
   "execution_count": 7,
   "id": "09c2d042",
   "metadata": {},
   "outputs": [],
   "source": [
    "concatenated_df = concatenated_df[concatenated_df[\"target\"] == 1]"
   ]
  },
  {
   "cell_type": "code",
   "execution_count": 8,
   "id": "557535cc",
   "metadata": {},
   "outputs": [
    {
     "name": "stdout",
     "output_type": "stream",
     "text": [
      "I'm dropping the uri and key from the dataset because i couldn't exactly understand what the key is and the uri is obviously not imporant.\n"
     ]
    }
   ],
   "source": [
    "concatenated_df = concatenated_df.drop([\"key\",\"uri\"], axis=1)\n",
    "print(\"I'm dropping the uri and key from the dataset because i couldn't exactly understand what the key is and the uri is obviously not imporant.\")"
   ]
  },
  {
   "cell_type": "code",
   "execution_count": 9,
   "id": "92cc4d6e",
   "metadata": {},
   "outputs": [],
   "source": [
    "concatenated_df.rename(columns={\"mode\" : \"modality\"}, inplace=True)"
   ]
  },
  {
   "cell_type": "code",
   "execution_count": 10,
   "id": "2c77e648",
   "metadata": {},
   "outputs": [],
   "source": [
    "concatenated_df.rename(columns={\"valence\" : \"positiveness\"}, inplace=True)"
   ]
  },
  {
   "cell_type": "code",
   "execution_count": 11,
   "id": "98ad5838",
   "metadata": {},
   "outputs": [
    {
     "data": {
      "text/plain": [
       "Index(['track', 'artist', 'danceability', 'energy', 'loudness', 'modality',\n",
       "       'speechiness', 'acousticness', 'instrumentalness', 'liveness',\n",
       "       'positiveness', 'tempo', 'duration_ms', 'time_signature', 'chorus_hit',\n",
       "       'sections', 'target'],\n",
       "      dtype='object')"
      ]
     },
     "execution_count": 11,
     "metadata": {},
     "output_type": "execute_result"
    }
   ],
   "source": [
    "concatenated_df.columns"
   ]
  },
  {
   "cell_type": "code",
   "execution_count": 12,
   "id": "567334c7",
   "metadata": {},
   "outputs": [
    {
     "data": {
      "text/plain": [
       "track               False\n",
       "artist              False\n",
       "danceability        False\n",
       "energy              False\n",
       "loudness            False\n",
       "modality            False\n",
       "speechiness         False\n",
       "acousticness        False\n",
       "instrumentalness    False\n",
       "liveness            False\n",
       "positiveness        False\n",
       "tempo               False\n",
       "duration_ms         False\n",
       "time_signature      False\n",
       "chorus_hit          False\n",
       "sections            False\n",
       "target              False\n",
       "dtype: bool"
      ]
     },
     "execution_count": 12,
     "metadata": {},
     "output_type": "execute_result"
    }
   ],
   "source": [
    "concatenated_df.isnull().any()"
   ]
  },
  {
   "cell_type": "code",
   "execution_count": 13,
   "id": "d14d9289",
   "metadata": {},
   "outputs": [
    {
     "data": {
      "text/plain": [
       "track               False\n",
       "artist              False\n",
       "danceability        False\n",
       "energy              False\n",
       "loudness            False\n",
       "modality            False\n",
       "speechiness         False\n",
       "acousticness        False\n",
       "instrumentalness    False\n",
       "liveness            False\n",
       "positiveness        False\n",
       "tempo               False\n",
       "duration_ms         False\n",
       "time_signature      False\n",
       "chorus_hit          False\n",
       "sections            False\n",
       "target              False\n",
       "dtype: bool"
      ]
     },
     "execution_count": 13,
     "metadata": {},
     "output_type": "execute_result"
    }
   ],
   "source": [
    "concatenated_df.isna().any()"
   ]
  },
  {
   "cell_type": "code",
   "execution_count": 14,
   "id": "e6684939",
   "metadata": {},
   "outputs": [
    {
     "data": {
      "text/plain": [
       "Angel          12\n",
       "You            12\n",
       "Hold On        11\n",
       "Crazy          11\n",
       "Happy          10\n",
       "Runaway        10\n",
       "I Love You     10\n",
       "Forever        10\n",
       "Heaven          8\n",
       "I Want You      8\n",
       "Smile           8\n",
       "Stand By Me     8\n",
       "Stay            8\n",
       "Tonight         8\n",
       "I Need You      8\n",
       "Someday         8\n",
       "Beautiful       7\n",
       "Call Me         7\n",
       "Always          7\n",
       "Love Me         7\n",
       "Name: track, dtype: int64"
      ]
     },
     "execution_count": 14,
     "metadata": {},
     "output_type": "execute_result"
    }
   ],
   "source": [
    "concatenated_df[\"track\"].value_counts().nlargest(20)"
   ]
  },
  {
   "cell_type": "code",
   "execution_count": 15,
   "id": "cdca42af",
   "metadata": {},
   "outputs": [
    {
     "data": {
      "image/png": "[encoded data removed]",
      "text/plain": [
       "<Figure size 1440x216 with 1 Axes>"
      ]
     },
     "metadata": {
      "needs_background": "light"
     },
     "output_type": "display_data"
    }
   ],
   "source": [
    "plt.figure(figsize=(20, 3)) \n",
    "plt.bar(concatenated_df[\"track\"].value_counts().keys()[:20], concatenated_df[\"track\"].value_counts().nlargest(20))\n",
    "plt.xlabel(\"Track name\")\n",
    "plt.ylabel(\"Count\")\n",
    "plt.show()"
   ]
  },
  {
   "cell_type": "code",
   "execution_count": 16,
   "id": "e582ad09",
   "metadata": {},
   "outputs": [],
   "source": [
    "artists = concatenated_df[\"artist\"]"
   ]
  },
  {
   "cell_type": "code",
   "execution_count": 17,
   "id": "e2d6d6e3",
   "metadata": {},
   "outputs": [
    {
     "data": {
      "text/plain": [
       "The Beatles           59\n",
       "Elton John            56\n",
       "The Rolling Stones    54\n",
       "Stevie Wonder         53\n",
       "Madonna               53\n",
       "Taylor Swift          52\n",
       "Glee Cast             52\n",
       "Drake                 51\n",
       "Aretha Franklin       50\n",
       "Neil Diamond          50\n",
       "The Beach Boys        49\n",
       "Dionne Warwick        46\n",
       "The Temptations       46\n",
       "Tim McGraw            45\n",
       "Kenny Chesney         43\n",
       "Rod Stewart           42\n",
       "Chicago               42\n",
       "Bee Gees              41\n",
       "Billy Joel            40\n",
       "Michael Jackson       40\n",
       "Name: artist, dtype: int64"
      ]
     },
     "execution_count": 17,
     "metadata": {},
     "output_type": "execute_result"
    }
   ],
   "source": [
    "artists.value_counts().nlargest(20)"
   ]
  },
  {
   "cell_type": "code",
   "execution_count": 18,
   "id": "dae28d4a",
   "metadata": {},
   "outputs": [],
   "source": [
    "concatenated_df.drop([\"target\"], axis=1, inplace=True)"
   ]
  },
  {
   "cell_type": "code",
   "execution_count": 19,
   "id": "c70c3cf8",
   "metadata": {},
   "outputs": [
    {
     "data": {
      "text/plain": [
       "<AxesSubplot:>"
      ]
     },
     "execution_count": 19,
     "metadata": {},
     "output_type": "execute_result"
    },
    {
     "data": {
      "image/png": "[encoded data removed]",
      "text/plain": [
       "<Figure size 432x288 with 2 Axes>"
      ]
     },
     "metadata": {
      "needs_background": "light"
     },
     "output_type": "display_data"
    }
   ],
   "source": [
    "sns.heatmap(concatenated_df.corr())"
   ]
  },
  {
   "cell_type": "markdown",
   "id": "1e2528bb",
   "metadata": {},
   "source": [
    "<center>\n",
    "    <h4>As we could see we could go through the heatmap and gather useful information about the correlations between different columns. For example positiveness is related with danceability and energy as well. Loudness is related with energy which is obvious I think. As we can see, this is a better looking heatmap than just corr() build in function. There are some columns that are correlated good together and some are not.<h4>\n",
    "<center>"
   ]
  },
  {
   "cell_type": "code",
   "execution_count": 20,
   "id": "800ab2c0",
   "metadata": {},
   "outputs": [],
   "source": [
    "artists_top20 = concatenated_df[\"artist\"].value_counts().keys()[:20]"
   ]
  },
  {
   "cell_type": "code",
   "execution_count": 21,
   "id": "80918c42",
   "metadata": {},
   "outputs": [],
   "source": [
    "songs_top20 = concatenated_df[concatenated_df[\"artist\"].isin(artists_top20)]"
   ]
  },
  {
   "cell_type": "code",
   "execution_count": 22,
   "id": "9cde7b2f",
   "metadata": {},
   "outputs": [
    {
     "data": {
      "image/png": "[encoded data removed]",
      "text/plain": [
       "<Figure size 1512x216 with 1 Axes>"
      ]
     },
     "metadata": {
      "needs_background": "light"
     },
     "output_type": "display_data"
    }
   ],
   "source": [
    "plt.figure(figsize=(21, 3))\n",
    "plt.xlabel(\"Artists\")\n",
    "plt.ylabel(\"Songs count\")\n",
    "plt.scatter(artists_top20, concatenated_df[\"artist\"].value_counts().nlargest(20))\n",
    "plt.show()"
   ]
  },
  {
   "cell_type": "code",
   "execution_count": 23,
   "id": "c9136ffd",
   "metadata": {
    "scrolled": true
   },
   "outputs": [
    {
     "data": {
      "image/png": "[encoded data removed]",
      "text/plain": [
       "<Figure size 432x288 with 1 Axes>"
      ]
     },
     "metadata": {},
     "output_type": "display_data"
    }
   ],
   "source": [
    "patches, texts = plt.pie(concatenated_df[\"artist\"].value_counts().nlargest(20))\n",
    "plt.legend(patches, artists_top20, loc='best', bbox_to_anchor=(1, 0.,0.5, 1))\n",
    "plt.show()"
   ]
  },
  {
   "cell_type": "markdown",
   "id": "c6157e28",
   "metadata": {},
   "source": [
    "As we can see there this is top 20 of the artists in the dataset. We can see there are pretty famous names in here like The Beatles, Elton John and others. They are pretty evenly separated with variance of only 19 songs."
   ]
  },
  {
   "cell_type": "code",
   "execution_count": 24,
   "id": "056f6cef",
   "metadata": {},
   "outputs": [],
   "source": [
    "correlations = concatenated_df.corr().abs()"
   ]
  },
  {
   "cell_type": "code",
   "execution_count": 25,
   "id": "9519c911",
   "metadata": {},
   "outputs": [],
   "source": [
    "unstacked = correlations.unstack()"
   ]
  },
  {
   "cell_type": "code",
   "execution_count": 26,
   "id": "0f739f3a",
   "metadata": {},
   "outputs": [
    {
     "data": {
      "text/plain": [
       "danceability  danceability      1.000000\n",
       "              energy            0.195386\n",
       "              loudness          0.130171\n",
       "              modality          0.159562\n",
       "              speechiness       0.245136\n",
       "                                  ...   \n",
       "sections      tempo             0.082331\n",
       "              duration_ms       0.763029\n",
       "              time_signature    0.051227\n",
       "              chorus_hit        0.242518\n",
       "              sections          1.000000\n",
       "Length: 196, dtype: float64"
      ]
     },
     "execution_count": 26,
     "metadata": {},
     "output_type": "execute_result"
    }
   ],
   "source": [
    "unstacked"
   ]
  },
  {
   "cell_type": "code",
   "execution_count": 27,
   "id": "2574fef9",
   "metadata": {},
   "outputs": [],
   "source": [
    "unstacked_sorted = unstacked.sort_values(kind=\"quicksort\", ascending=False)"
   ]
  },
  {
   "cell_type": "code",
   "execution_count": 28,
   "id": "84f6b0cc",
   "metadata": {},
   "outputs": [
    {
     "data": {
      "text/plain": [
       "danceability    danceability      1.000000\n",
       "energy          energy            1.000000\n",
       "chorus_hit      chorus_hit        1.000000\n",
       "time_signature  time_signature    1.000000\n",
       "duration_ms     duration_ms       1.000000\n",
       "                                    ...   \n",
       "chorus_hit      acousticness      0.001870\n",
       "speechiness     positiveness      0.001220\n",
       "positiveness    speechiness       0.001220\n",
       "chorus_hit      danceability      0.000674\n",
       "danceability    chorus_hit        0.000674\n",
       "Length: 196, dtype: float64"
      ]
     },
     "execution_count": 28,
     "metadata": {},
     "output_type": "execute_result"
    }
   ],
   "source": [
    "unstacked_sorted"
   ]
  },
  {
   "cell_type": "code",
   "execution_count": 29,
   "id": "7747288c",
   "metadata": {},
   "outputs": [],
   "source": [
    "unstacked_sorted = unstacked_sorted[unstacked_sorted != 1]"
   ]
  },
  {
   "cell_type": "code",
   "execution_count": 30,
   "id": "27f17894",
   "metadata": {},
   "outputs": [
    {
     "data": {
      "text/plain": [
       "sections      duration_ms     0.763029\n",
       "duration_ms   sections        0.763029\n",
       "loudness      energy          0.686772\n",
       "energy        loudness        0.686772\n",
       "acousticness  energy          0.585655\n",
       "                                ...   \n",
       "chorus_hit    acousticness    0.001870\n",
       "speechiness   positiveness    0.001220\n",
       "positiveness  speechiness     0.001220\n",
       "chorus_hit    danceability    0.000674\n",
       "danceability  chorus_hit      0.000674\n",
       "Length: 182, dtype: float64"
      ]
     },
     "execution_count": 30,
     "metadata": {},
     "output_type": "execute_result"
    }
   ],
   "source": [
    "unstacked_sorted"
   ]
  },
  {
   "cell_type": "code",
   "execution_count": 31,
   "id": "139cb7d8",
   "metadata": {},
   "outputs": [],
   "source": [
    "top_correlations_column_names = unstacked_sorted.keys()[:5][::2]\n",
    "top_corrlations_values = unstacked_sorted.values[:5][::2]\n",
    "#I'm taking the top 3 correlated columns and the top 3 correlated values to plot the afterwards."
   ]
  },
  {
   "cell_type": "code",
   "execution_count": 32,
   "id": "5f6caf3b",
   "metadata": {},
   "outputs": [
    {
     "data": {
      "text/plain": [
       "(MultiIndex([(    'sections', 'duration_ms'),\n",
       "             (    'loudness',      'energy'),\n",
       "             ('acousticness',      'energy')],\n",
       "            ),\n",
       " array([0.76302864, 0.68677228, 0.5856548 ]))"
      ]
     },
     "execution_count": 32,
     "metadata": {},
     "output_type": "execute_result"
    }
   ],
   "source": [
    "top_correlations_column_names, top_corrlations_values"
   ]
  },
  {
   "cell_type": "code",
   "execution_count": 33,
   "id": "9a23b496",
   "metadata": {},
   "outputs": [],
   "source": [
    "bottom_correlations_column_names = unstacked_sorted.keys()[-6:][::2]\n",
    "bottom_correlations_values = unstacked_sorted.values[-6:][::2]\n",
    "#Same thing here, taking the least correlated columns "
   ]
  },
  {
   "cell_type": "code",
   "execution_count": 34,
   "id": "5fb6c870",
   "metadata": {},
   "outputs": [
    {
     "data": {
      "text/plain": [
       "(MultiIndex([('acousticness',   'chorus_hit'),\n",
       "             ( 'speechiness', 'positiveness'),\n",
       "             (  'chorus_hit', 'danceability')],\n",
       "            ),\n",
       " array([0.00187041, 0.00121996, 0.00067429]))"
      ]
     },
     "execution_count": 34,
     "metadata": {},
     "output_type": "execute_result"
    }
   ],
   "source": [
    "bottom_correlations_column_names, bottom_correlations_values"
   ]
  },
  {
   "cell_type": "code",
   "execution_count": 35,
   "id": "f8b08ed2",
   "metadata": {},
   "outputs": [
    {
     "name": "stdout",
     "output_type": "stream",
     "text": [
      "0.763028643178777\n"
     ]
    },
    {
     "data": {
      "image/png": "[encoded data removed]",
      "text/plain": [
       "<Figure size 432x432 with 3 Axes>"
      ]
     },
     "metadata": {
      "needs_background": "light"
     },
     "output_type": "display_data"
    }
   ],
   "source": [
    "sns.jointplot(x=top_correlations_column_names[0][0], y=top_correlations_column_names[0][1], kind=\"hex\", data=concatenated_df, color=\"red\")\n",
    "print(top_corrlations_values[0])"
   ]
  },
  {
   "cell_type": "markdown",
   "id": "9b83b9ee",
   "metadata": {},
   "source": [
    "I couldnt make the duration_ms to be as i wanted - in minutes, but i converted it into minutes and most of the values in the duration_ms column are close to 3:30 minutes, which is kind of common for songs. They are closely related with section column. This is because sections are tightly coupled with timespan of the song."
   ]
  },
  {
   "cell_type": "code",
   "execution_count": null,
   "id": "bbae4171",
   "metadata": {},
   "outputs": [],
   "source": []
  },
  {
   "cell_type": "code",
   "execution_count": 36,
   "id": "86ee2526",
   "metadata": {},
   "outputs": [
    {
     "name": "stdout",
     "output_type": "stream",
     "text": [
      "0.6867722811722202\n"
     ]
    },
    {
     "data": {
      "image/png": "[encoded data removed]",
      "text/plain": [
       "<Figure size 432x432 with 3 Axes>"
      ]
     },
     "metadata": {
      "needs_background": "light"
     },
     "output_type": "display_data"
    }
   ],
   "source": [
    "sns.jointplot(x=top_correlations_column_names[1][0], y=top_correlations_column_names[1][1], kind=\"hex\", data=concatenated_df, color=\"red\")\n",
    "print(top_corrlations_values[1])"
   ]
  },
  {
   "cell_type": "markdown",
   "id": "05c86fb6",
   "metadata": {},
   "source": [
    "So, it seems that most of the energetic songs are loud as well. This does not apply for a number of the songs, but the vast majority of songs that an energetic are loud as well."
   ]
  },
  {
   "cell_type": "code",
   "execution_count": null,
   "id": "fb210277",
   "metadata": {},
   "outputs": [],
   "source": []
  },
  {
   "cell_type": "code",
   "execution_count": 37,
   "id": "6675cd74",
   "metadata": {},
   "outputs": [
    {
     "name": "stdout",
     "output_type": "stream",
     "text": [
      "0.5856547977608402\n"
     ]
    },
    {
     "data": {
      "image/png": "[encoded data removed]",
      "text/plain": [
       "<Figure size 432x432 with 3 Axes>"
      ]
     },
     "metadata": {
      "needs_background": "light"
     },
     "output_type": "display_data"
    }
   ],
   "source": [
    "sns.jointplot(x=top_correlations_column_names[2][0], y=top_correlations_column_names[2][1], kind=\"hex\", data=concatenated_df, color=\"red\")\n",
    "print(top_corrlations_values[2])"
   ]
  },
  {
   "cell_type": "markdown",
   "id": "d5ec5006",
   "metadata": {},
   "source": [
    "ALthough it may seem that they are not exactly related, statistics don't lie, plots lie. Even though the vast majority of the songs are not accoustic at all. That would mean that large portion of the songs are not played with instruments, but digitally."
   ]
  },
  {
   "cell_type": "code",
   "execution_count": null,
   "id": "7a89dd56",
   "metadata": {},
   "outputs": [],
   "source": []
  },
  {
   "cell_type": "code",
   "execution_count": 38,
   "id": "c41162fc",
   "metadata": {},
   "outputs": [
    {
     "name": "stdout",
     "output_type": "stream",
     "text": [
      "0.0018704127258441885\n"
     ]
    },
    {
     "data": {
      "image/png": "[encoded data removed]",
      "text/plain": [
       "<Figure size 432x432 with 3 Axes>"
      ]
     },
     "metadata": {
      "needs_background": "light"
     },
     "output_type": "display_data"
    }
   ],
   "source": [
    "sns.jointplot(x=bottom_correlations_column_names[0][0], y=bottom_correlations_column_names[0][1], kind=\"hex\", data=concatenated_df, color=\"red\")\n",
    "print(bottom_correlations_values[0])"
   ]
  },
  {
   "cell_type": "markdown",
   "id": "ba41a30e",
   "metadata": {},
   "source": [
    "As we can see, the columns are completely different from one another. That's why this is at the bottom of the correlations list, even though some are correlated 0.001 is no the best correlation."
   ]
  },
  {
   "cell_type": "code",
   "execution_count": null,
   "id": "451b4f19",
   "metadata": {},
   "outputs": [],
   "source": []
  },
  {
   "cell_type": "code",
   "execution_count": 39,
   "id": "a85b8a8b",
   "metadata": {},
   "outputs": [
    {
     "name": "stdout",
     "output_type": "stream",
     "text": [
      "0.0012199634010138958\n"
     ]
    },
    {
     "data": {
      "image/png": "[encoded data removed]",
      "text/plain": [
       "<Figure size 432x432 with 3 Axes>"
      ]
     },
     "metadata": {
      "needs_background": "light"
     },
     "output_type": "display_data"
    }
   ],
   "source": [
    "sns.jointplot(x=bottom_correlations_column_names[1][0], y=bottom_correlations_column_names[1][1], kind=\"hex\", data=concatenated_df, color=\"red\")\n",
    "print(bottom_correlations_values[1])"
   ]
  },
  {
   "cell_type": "markdown",
   "id": "2ad6f62c",
   "metadata": {},
   "source": [
    "As we can see, the speechiness is mostly on the left side of the x axis while positiveness is widely spread. Correlation is kind of bad."
   ]
  },
  {
   "cell_type": "code",
   "execution_count": null,
   "id": "ef4f31e4",
   "metadata": {},
   "outputs": [],
   "source": []
  },
  {
   "cell_type": "code",
   "execution_count": 40,
   "id": "260b1188",
   "metadata": {},
   "outputs": [
    {
     "name": "stdout",
     "output_type": "stream",
     "text": [
      "0.0006742897131121759\n"
     ]
    },
    {
     "data": {
      "image/png": "[encoded data removed]",
      "text/plain": [
       "<Figure size 432x432 with 3 Axes>"
      ]
     },
     "metadata": {
      "needs_background": "light"
     },
     "output_type": "display_data"
    }
   ],
   "source": [
    "sns.jointplot(x=bottom_correlations_column_names[2][0], y=bottom_correlations_column_names[2][1], kind=\"hex\", data=concatenated_df, color=\"red\")\n",
    "print(bottom_correlations_values[2])"
   ]
  },
  {
   "cell_type": "markdown",
   "id": "39c2b1c5",
   "metadata": {},
   "source": [
    "This is almost zero correlation, although it seems so be highly correlated. It doesn't get worse than that."
   ]
  },
  {
   "cell_type": "code",
   "execution_count": null,
   "id": "ddf9bd69",
   "metadata": {},
   "outputs": [],
   "source": []
  },
  {
   "cell_type": "markdown",
   "id": "add2773b",
   "metadata": {},
   "source": [
    "I'm going to continue with plotting the distribution of the columns, that way we could tell which columns are more prevalent than the others."
   ]
  },
  {
   "cell_type": "code",
   "execution_count": 41,
   "id": "bfd3e4b2",
   "metadata": {},
   "outputs": [],
   "source": [
    "tracks_values = concatenated_df[\"track\"]\n",
    "artist_values = concatenated_df[\"artist\"]\n",
    "concatenated_df.drop([\"track\", \"artist\"], axis=1, inplace=True)"
   ]
  },
  {
   "cell_type": "code",
   "execution_count": 42,
   "id": "55beb54a",
   "metadata": {},
   "outputs": [
    {
     "data": {
      "image/png": "[encoded data removed]",
      "text/plain": [
       "<Figure size 432x288 with 2 Axes>"
      ]
     },
     "metadata": {
      "needs_background": "light"
     },
     "output_type": "display_data"
    },
    {
     "name": "stdout",
     "output_type": "stream",
     "text": [
      "As we can see, the danceability of the hit songs are almost normally distributed with a mean little bit to the right. The mean is 0.6, so above the average songs are meant to be danced to. This means that danceability is rather important for a song to be a hit.\n",
      "\n",
      "\n",
      "\n",
      "count    20553.000000\n",
      "mean         0.601237\n",
      "std          0.151532\n",
      "min          0.000000\n",
      "25%          0.502000\n",
      "50%          0.610000\n",
      "75%          0.708000\n",
      "max          0.988000\n",
      "Name: danceability, dtype: float64\n"
     ]
    }
   ],
   "source": [
    "f, (ax_box, ax_hist) = plt.subplots(2, sharex=True, gridspec_kw={\"height_ratios\": (.15, .85)})\n",
    "test_plot = sns.boxplot(x=concatenated_df[\"danceability\"], ax=ax_box)\n",
    "sns.histplot(data=concatenated_df, x=\"danceability\", ax=ax_hist, kde=True)\n",
    "plt.show()\n",
    "print(\"As we can see, the danceability of the hit songs are almost normally distributed with a mean little bit to the right. The mean is 0.6, so above the average songs are meant to be danced to. This means that danceability is rather important for a song to be a hit.\")\n",
    "print(\"\\n\\n\")\n",
    "print(concatenated_df[\"danceability\"].describe())"
   ]
  },
  {
   "cell_type": "code",
   "execution_count": null,
   "id": "2f7dcb99",
   "metadata": {},
   "outputs": [],
   "source": []
  },
  {
   "cell_type": "code",
   "execution_count": 43,
   "id": "958f9d96",
   "metadata": {},
   "outputs": [
    {
     "data": {
      "image/png": "[encoded data removed]",
      "text/plain": [
       "<Figure size 432x288 with 2 Axes>"
      ]
     },
     "metadata": {
      "needs_background": "light"
     },
     "output_type": "display_data"
    },
    {
     "name": "stdout",
     "output_type": "stream",
     "text": [
      "As we can see from the plot, the energy has a mean of .62 which is kinda close to the danceability one, although the standard deviation is different. The energy is more to the bigger size > 50, so that means the more energetical songs are little more that the others with less energy.\n",
      "\n",
      "\n",
      "\n",
      "count    20553.000000\n",
      "mean         0.624296\n",
      "std          0.198501\n",
      "min          0.018100\n",
      "25%          0.481000\n",
      "50%          0.642000\n",
      "75%          0.784000\n",
      "max          0.997000\n",
      "Name: energy, dtype: float64\n"
     ]
    }
   ],
   "source": [
    "f, (ax_box, ax_hist) = plt.subplots(2, sharex=True, gridspec_kw={\"height_ratios\": (.15, .85)})\n",
    "test_plot = sns.boxplot(x=concatenated_df[\"energy\"], ax=ax_box)\n",
    "sns.histplot(data=concatenated_df, x=\"energy\", ax=ax_hist, kde=True)\n",
    "plt.show()\n",
    "print(\"As we can see from the plot, the energy has a mean of .62 which is kinda close to the danceability one, although the standard deviation is different. The energy is more to the bigger size > 50, so that means the more energetical songs are little more that the others with less energy.\")\n",
    "print(\"\\n\\n\")\n",
    "print(concatenated_df[\"energy\"].describe())"
   ]
  },
  {
   "cell_type": "code",
   "execution_count": null,
   "id": "300d4bd7",
   "metadata": {},
   "outputs": [],
   "source": []
  },
  {
   "cell_type": "code",
   "execution_count": 44,
   "id": "59cb74a9",
   "metadata": {},
   "outputs": [
    {
     "data": {
      "image/png": "[encoded data removed]",
      "text/plain": [
       "<Figure size 432x288 with 2 Axes>"
      ]
     },
     "metadata": {
      "needs_background": "light"
     },
     "output_type": "display_data"
    },
    {
     "name": "stdout",
     "output_type": "stream",
     "text": [
      "As we can see from this plot and from the boxplot in particular, there are number of outliers which are less than .15 percent from the line of the outliers, but they are not causing any major effect on the plot. Like the previous two plots, this is more to the right side, meaning that most of the songs are loud.\n",
      "\n",
      "\n",
      "\n",
      "count    20553.000000\n",
      "mean        -8.702237\n",
      "std          3.612900\n",
      "min        -28.030000\n",
      "25%        -11.124000\n",
      "50%         -8.273000\n",
      "75%         -5.881000\n",
      "max          2.291000\n",
      "Name: loudness, dtype: float64\n"
     ]
    }
   ],
   "source": [
    "f, (ax_box, ax_hist) = plt.subplots(2, sharex=True, gridspec_kw={\"height_ratios\": (.15, .85)})\n",
    "test_plot = sns.boxplot(x=concatenated_df[\"loudness\"], ax=ax_box)\n",
    "sns.histplot(data=concatenated_df, x=\"loudness\", ax=ax_hist)\n",
    "plt.show()\n",
    "print(\"As we can see from this plot and from the boxplot in particular, there are number of outliers which are less than .15 percent from the line of the outliers, but they are not causing any major effect on the plot. Like the previous two plots, this is more to the right side, meaning that most of the songs are loud.\")\n",
    "print(\"\\n\\n\")\n",
    "print(concatenated_df[\"loudness\"].describe())"
   ]
  },
  {
   "cell_type": "code",
   "execution_count": null,
   "id": "cf0217f7",
   "metadata": {},
   "outputs": [],
   "source": []
  },
  {
   "cell_type": "code",
   "execution_count": 45,
   "id": "398debc2",
   "metadata": {},
   "outputs": [
    {
     "data": {
      "image/png": "[encoded data removed]",
      "text/plain": [
       "<Figure size 432x288 with 2 Axes>"
      ]
     },
     "metadata": {
      "needs_background": "light"
     },
     "output_type": "display_data"
    },
    {
     "name": "stdout",
     "output_type": "stream",
     "text": [
      "Here the boxplot is useless, because modality is either 1 or 0, we can see that most of the songs' modality is 1 so it is way more prevalent\n",
      "\n",
      "\n",
      "\n",
      "count    20553.000000\n",
      "mean         0.730064\n",
      "std          0.443937\n",
      "min          0.000000\n",
      "25%          0.000000\n",
      "50%          1.000000\n",
      "75%          1.000000\n",
      "max          1.000000\n",
      "Name: modality, dtype: float64\n"
     ]
    }
   ],
   "source": [
    "f, (ax_box, ax_hist) = plt.subplots(2, sharex=True, gridspec_kw={\"height_ratios\": (.15, .85)})\n",
    "test_plot = sns.boxplot(x=concatenated_df[\"modality\"], ax=ax_box)\n",
    "sns.histplot(data=concatenated_df, x=\"modality\", ax=ax_hist)\n",
    "plt.show()\n",
    "print(\"Here the boxplot is useless, because modality is either 1 or 0, we can see that most of the songs' modality is 1 so it is way more prevalent\")\n",
    "print(\"\\n\\n\")\n",
    "print(concatenated_df[\"modality\"].describe())"
   ]
  },
  {
   "cell_type": "code",
   "execution_count": null,
   "id": "4262f8b4",
   "metadata": {},
   "outputs": [],
   "source": []
  },
  {
   "cell_type": "code",
   "execution_count": 46,
   "id": "961d432b",
   "metadata": {},
   "outputs": [
    {
     "data": {
      "image/png": "[encoded data removed]",
      "text/plain": [
       "<Figure size 432x288 with 2 Axes>"
      ]
     },
     "metadata": {
      "needs_background": "light"
     },
     "output_type": "display_data"
    },
    {
     "name": "stdout",
     "output_type": "stream",
     "text": [
      "As we can see, most of the songs don't have speech in them.\n",
      "\n",
      "\n",
      "\n",
      "count    20553.000000\n",
      "mean         0.069444\n",
      "std          0.076875\n",
      "min          0.000000\n",
      "25%          0.031900\n",
      "50%          0.040600\n",
      "75%          0.064600\n",
      "max          0.950000\n",
      "Name: speechiness, dtype: float64\n"
     ]
    }
   ],
   "source": [
    "f, (ax_box, ax_hist) = plt.subplots(2, sharex=True, gridspec_kw={\"height_ratios\": (.15, .85)})\n",
    "test_plot = sns.boxplot(x=concatenated_df[\"speechiness\"], ax=ax_box)\n",
    "sns.histplot(data=concatenated_df, x=\"speechiness\", ax=ax_hist)\n",
    "plt.show()\n",
    "print(\"As we can see, most of the songs don't have speech in them.\")\n",
    "print(\"\\n\\n\")\n",
    "print(concatenated_df[\"speechiness\"].describe())"
   ]
  },
  {
   "cell_type": "code",
   "execution_count": null,
   "id": "b0d384dc",
   "metadata": {},
   "outputs": [],
   "source": []
  },
  {
   "cell_type": "code",
   "execution_count": 47,
   "id": "bdb02e2c",
   "metadata": {},
   "outputs": [
    {
     "data": {
      "image/png": "[encoded data removed]",
      "text/plain": [
       "<Figure size 432x288 with 2 Axes>"
      ]
     },
     "metadata": {
      "needs_background": "light"
     },
     "output_type": "display_data"
    },
    {
     "name": "stdout",
     "output_type": "stream",
     "text": [
      "As we can see, the accousticness is mostly on the lower end with mean of 0.17 , so it means that a lot of the songs are digitally made, with computer help, not including instruments.\n",
      "\n",
      "\n",
      "\n",
      "count    20553.000000\n",
      "mean         0.280814\n",
      "std          0.274599\n",
      "min          0.000002\n",
      "25%          0.043300\n",
      "50%          0.181000\n",
      "75%          0.476000\n",
      "max          0.994000\n",
      "Name: acousticness, dtype: float64\n"
     ]
    }
   ],
   "source": [
    "f, (ax_box, ax_hist) = plt.subplots(2, sharex=True, gridspec_kw={\"height_ratios\": (.15, .85)})\n",
    "test_plot = sns.boxplot(x=concatenated_df[\"acousticness\"], ax=ax_box)\n",
    "sns.histplot(data=concatenated_df, x=\"acousticness\", ax=ax_hist)\n",
    "plt.show()\n",
    "print(\"As we can see, the accousticness is mostly on the lower end with mean of 0.17 , so it means that a lot of the songs are digitally made, with computer help, not including instruments.\")\n",
    "print(\"\\n\\n\")\n",
    "print(concatenated_df[\"acousticness\"].describe())"
   ]
  },
  {
   "cell_type": "code",
   "execution_count": null,
   "id": "94a8380a",
   "metadata": {},
   "outputs": [],
   "source": []
  },
  {
   "cell_type": "code",
   "execution_count": 48,
   "id": "5f5be15e",
   "metadata": {},
   "outputs": [
    {
     "data": {
      "image/png": "[encoded data removed]",
      "text/plain": [
       "<Figure size 432x288 with 2 Axes>"
      ]
     },
     "metadata": {
      "needs_background": "light"
     },
     "output_type": "display_data"
    },
    {
     "name": "stdout",
     "output_type": "stream",
     "text": [
      "As we can see there are some outliers on the right side, but the predominant values are within .1 and .3 percent. This means that most of the songs are not performed live.\n",
      "\n",
      "\n",
      "\n",
      "count    20553.000000\n",
      "mean         0.192637\n",
      "std          0.163090\n",
      "min          0.013000\n",
      "25%          0.088900\n",
      "50%          0.130000\n",
      "75%          0.249000\n",
      "max          0.999000\n",
      "Name: liveness, dtype: float64\n"
     ]
    }
   ],
   "source": [
    "f, (ax_box, ax_hist) = plt.subplots(2, sharex=True, gridspec_kw={\"height_ratios\": (.15, .85)})\n",
    "test_plot = sns.boxplot(x=concatenated_df[\"liveness\"], ax=ax_box)\n",
    "sns.histplot(data=concatenated_df, x=\"liveness\", ax=ax_hist)\n",
    "plt.show()\n",
    "print(\"As we can see there are some outliers on the right side, but the predominant values are within .1 and .3 percent. This means that most of the songs are not performed live.\")\n",
    "print(\"\\n\\n\")\n",
    "print(concatenated_df[\"liveness\"].describe())"
   ]
  },
  {
   "cell_type": "code",
   "execution_count": null,
   "id": "79b34e48",
   "metadata": {},
   "outputs": [],
   "source": []
  },
  {
   "cell_type": "code",
   "execution_count": 49,
   "id": "6ec68099",
   "metadata": {},
   "outputs": [
    {
     "data": {
      "image/png": "[encoded data removed]",
      "text/plain": [
       "<Figure size 432x288 with 2 Axes>"
      ]
     },
     "metadata": {
      "needs_background": "light"
     },
     "output_type": "display_data"
    },
    {
     "name": "stdout",
     "output_type": "stream",
     "text": [
      "With a mean of over .6 the positiveness is on the high scale for me. It indicates that people love positive songs or narrative. But as we can see, many people still like the sad songs.\n",
      "\n",
      "\n",
      "\n",
      "count    20553.000000\n",
      "mean         0.609578\n",
      "std          0.236259\n",
      "min          0.000000\n",
      "25%          0.428000\n",
      "50%          0.633000\n",
      "75%          0.808000\n",
      "max          0.991000\n",
      "Name: positiveness, dtype: float64\n"
     ]
    }
   ],
   "source": [
    "f, (ax_box, ax_hist) = plt.subplots(2, sharex=True, gridspec_kw={\"height_ratios\": (.15, .85)})\n",
    "test_plot = sns.boxplot(x=concatenated_df[\"positiveness\"], ax=ax_box)\n",
    "sns.histplot(data=concatenated_df, x=\"positiveness\", ax=ax_hist)\n",
    "plt.show()\n",
    "print(\"With a mean of over .6 the positiveness is on the high scale for me. It indicates that people love positive songs or narrative. But as we can see, many people still like the sad songs.\")\n",
    "print(\"\\n\\n\")\n",
    "print(concatenated_df[\"positiveness\"].describe())"
   ]
  },
  {
   "cell_type": "code",
   "execution_count": null,
   "id": "f12df579",
   "metadata": {},
   "outputs": [],
   "source": []
  },
  {
   "cell_type": "code",
   "execution_count": 50,
   "id": "6be56f74",
   "metadata": {},
   "outputs": [
    {
     "data": {
      "image/png": "[encoded data removed]",
      "text/plain": [
       "<Figure size 432x288 with 2 Axes>"
      ]
     },
     "metadata": {
      "needs_background": "light"
     },
     "output_type": "display_data"
    },
    {
     "name": "stdout",
     "output_type": "stream",
     "text": [
      "Tempo also knows as Beats per minute is right in the middle. There are some values in the q1 and in q3 but overall is dead in the middle.\n",
      "\n",
      "\n",
      "\n",
      "count    20553.000000\n",
      "mean       120.288280\n",
      "std         27.724797\n",
      "min          0.000000\n",
      "25%         99.694000\n",
      "50%        118.881000\n",
      "75%        135.938000\n",
      "max        241.009000\n",
      "Name: tempo, dtype: float64\n"
     ]
    }
   ],
   "source": [
    "f, (ax_box, ax_hist) = plt.subplots(2, sharex=True, gridspec_kw={\"height_ratios\": (.15, .85)})\n",
    "test_plot = sns.boxplot(x=concatenated_df[\"tempo\"], ax=ax_box)\n",
    "sns.histplot(data=concatenated_df, x=\"tempo\", ax=ax_hist)\n",
    "plt.show()\n",
    "print(\"Tempo also knows as Beats per minute is right in the middle. There are some values in the q1 and in q3 but overall is dead in the middle.\")\n",
    "print(\"\\n\\n\")\n",
    "print(concatenated_df[\"tempo\"].describe())"
   ]
  },
  {
   "cell_type": "code",
   "execution_count": null,
   "id": "33175e8d",
   "metadata": {},
   "outputs": [],
   "source": []
  },
  {
   "cell_type": "code",
   "execution_count": 51,
   "id": "c7970d43",
   "metadata": {},
   "outputs": [
    {
     "data": {
      "image/png": "[encoded data removed]",
      "text/plain": [
       "<Figure size 432x288 with 2 Axes>"
      ]
     },
     "metadata": {
      "needs_background": "light"
     },
     "output_type": "display_data"
    },
    {
     "name": "stdout",
     "output_type": "stream",
     "text": [
      "The duration is around 3:30 minutes, and most of them are within one standard deviation from each other which i think i typical, even though there are some outliers on the right side.\n"
     ]
    }
   ],
   "source": [
    "transformed_column = [x / 1_000_00 for x in concatenated_df[\"duration_ms\"]]\n",
    "f, (ax_box, ax_hist) = plt.subplots(2, sharex=True, gridspec_kw={\"height_ratios\": (.15, .85)})\n",
    "test_plot = sns.boxplot(x=transformed_column, ax=ax_box)\n",
    "sns.histplot(data=transformed_column, ax=ax_hist)\n",
    "plt.show()\n",
    "print(\"The duration is around 3:30 minutes, and most of them are within one standard deviation from each other which i think i typical, even though there are some outliers on the right side.\")"
   ]
  },
  {
   "cell_type": "code",
   "execution_count": 52,
   "id": "6a6e52ec",
   "metadata": {},
   "outputs": [
    {
     "name": "stdout",
     "output_type": "stream",
     "text": [
      "I will skip time_signature because i don't fully understand it and will butcher the statistics, but i will use it    later in the training of the model\n"
     ]
    }
   ],
   "source": [
    "print(\"I will skip time_signature because i don't fully understand it and will butcher the statistics, but i will use it\\\n",
    "    later in the training of the model\")"
   ]
  },
  {
   "cell_type": "code",
   "execution_count": null,
   "id": "97f71980",
   "metadata": {},
   "outputs": [],
   "source": []
  },
  {
   "cell_type": "code",
   "execution_count": 53,
   "id": "1f2eef2d",
   "metadata": {},
   "outputs": [
    {
     "data": {
      "image/png": "[encoded data removed]",
      "text/plain": [
       "<Figure size 432x288 with 2 Axes>"
      ]
     },
     "metadata": {
      "needs_background": "light"
     },
     "output_type": "display_data"
    },
    {
     "name": "stdout",
     "output_type": "stream",
     "text": [
      "I'm going to leave it here, but use it in the model, most of the chorus is hit early in the song, so that could mean something to the model.\n",
      "\n",
      "\n",
      "\n",
      "count    20553.000000\n",
      "mean        39.224034\n",
      "std         17.217213\n",
      "min         13.117140\n",
      "25%         27.592660\n",
      "50%         35.352590\n",
      "75%         46.292190\n",
      "max        262.615400\n",
      "Name: chorus_hit, dtype: float64\n"
     ]
    }
   ],
   "source": [
    "f, (ax_box, ax_hist) = plt.subplots(2, sharex=True, gridspec_kw={\"height_ratios\": (.15, .85)})\n",
    "test_plot = sns.boxplot(x=concatenated_df[\"chorus_hit\"], ax=ax_box)\n",
    "sns.histplot(data=concatenated_df, x=\"chorus_hit\", ax=ax_hist)\n",
    "plt.show()\n",
    "print(\"I'm going to leave it here, but use it in the model, most of the chorus is hit early in the song, so that could mean something to the model.\")\n",
    "print(\"\\n\\n\")\n",
    "print(concatenated_df[\"chorus_hit\"].describe())"
   ]
  },
  {
   "cell_type": "code",
   "execution_count": 54,
   "id": "7847f807",
   "metadata": {},
   "outputs": [
    {
     "name": "stdout",
     "output_type": "stream",
     "text": [
      "I'm going to do the same with the last column, sections are highly correlated with duration_ms.\n"
     ]
    }
   ],
   "source": [
    "print(\"I'm going to do the same with the last column, sections are highly correlated with duration_ms.\")"
   ]
  },
  {
   "cell_type": "markdown",
   "id": "afb12f71",
   "metadata": {},
   "source": [
    "<center>\n",
    "    I'm going to sum up the plots and the describe methods here.\n",
    "    <h5>* Most of the top songs are danceable aka they could be danced to.</h5>\n",
    "    <h5>* Most of them are energetic meaning that they feel like fast, loud and noisy.</h5>\n",
    "    <h5>* Most of them are loud as well.</h5>\n",
    "    <h5>* Most of them have modality of 1.</h5>\n",
    "    <h5>* There is no speech in the majority of them.</h5>\n",
    "    <h5>* Overall accousticness is around 0, meaning that most of them are not played with instruments.</h5>\n",
    "    <h5>* Most of them are not played live.</h5>\n",
    "    <h5>* Positiveness is on the larger side.</h5>\n",
    "    <h5>* Most of the duration of the songs are around 3 minutes.</h5>\n",
    "<center>"
   ]
  },
  {
   "cell_type": "code",
   "execution_count": null,
   "id": "7b37360e",
   "metadata": {},
   "outputs": [],
   "source": []
  },
  {
   "cell_type": "markdown",
   "id": "d44e42a7",
   "metadata": {},
   "source": [
    "I think the last thing to do is to create the model..so here it is...(make something up here)\n",
    "First of all i need to prepare the data for the model."
   ]
  },
  {
   "cell_type": "code",
   "execution_count": 55,
   "id": "e75b8a85",
   "metadata": {},
   "outputs": [
    {
     "name": "stdout",
     "output_type": "stream",
     "text": [
      "I'm taking this dataset which is the original one containing all the values and no dropped columns.\n",
      "But this will change because i don't need some of the columns, they don't bring any value to the model.\n"
     ]
    },
    {
     "data": {
      "text/html": [
       "<div>\n",
       "<style scoped>\n",
       "    .dataframe tbody tr th:only-of-type {\n",
       "        vertical-align: middle;\n",
       "    }\n",
       "\n",
       "    .dataframe tbody tr th {\n",
       "        vertical-align: top;\n",
       "    }\n",
       "\n",
       "    .dataframe thead th {\n",
       "        text-align: right;\n",
       "    }\n",
       "</style>\n",
       "<table border=\"1\" class=\"dataframe\">\n",
       "  <thead>\n",
       "    <tr style=\"text-align: right;\">\n",
       "      <th></th>\n",
       "      <th>track</th>\n",
       "      <th>artist</th>\n",
       "      <th>uri</th>\n",
       "      <th>danceability</th>\n",
       "      <th>energy</th>\n",
       "      <th>key</th>\n",
       "      <th>loudness</th>\n",
       "      <th>mode</th>\n",
       "      <th>speechiness</th>\n",
       "      <th>acousticness</th>\n",
       "      <th>instrumentalness</th>\n",
       "      <th>liveness</th>\n",
       "      <th>valence</th>\n",
       "      <th>tempo</th>\n",
       "      <th>duration_ms</th>\n",
       "      <th>time_signature</th>\n",
       "      <th>chorus_hit</th>\n",
       "      <th>sections</th>\n",
       "      <th>target</th>\n",
       "    </tr>\n",
       "  </thead>\n",
       "  <tbody>\n",
       "    <tr>\n",
       "      <th>0</th>\n",
       "      <td>Porque?</td>\n",
       "      <td>Reginaldo Rossi</td>\n",
       "      <td>spotify:track:28KC2wl7jDv6Ms1Uc0OMpm</td>\n",
       "      <td>0.669</td>\n",
       "      <td>0.547</td>\n",
       "      <td>1</td>\n",
       "      <td>-9.873</td>\n",
       "      <td>0</td>\n",
       "      <td>0.0576</td>\n",
       "      <td>0.3530</td>\n",
       "      <td>0.000</td>\n",
       "      <td>0.0515</td>\n",
       "      <td>0.730</td>\n",
       "      <td>131.073</td>\n",
       "      <td>141067</td>\n",
       "      <td>4</td>\n",
       "      <td>28.79763</td>\n",
       "      <td>6</td>\n",
       "      <td>0</td>\n",
       "    </tr>\n",
       "    <tr>\n",
       "      <th>1</th>\n",
       "      <td>Free Jazz</td>\n",
       "      <td>Maria Teresa Luciani</td>\n",
       "      <td>spotify:track:0zagn8PNnM7pM8pz1gXOAD</td>\n",
       "      <td>0.291</td>\n",
       "      <td>0.300</td>\n",
       "      <td>1</td>\n",
       "      <td>-14.054</td>\n",
       "      <td>0</td>\n",
       "      <td>0.0326</td>\n",
       "      <td>0.9050</td>\n",
       "      <td>0.492</td>\n",
       "      <td>0.1180</td>\n",
       "      <td>0.039</td>\n",
       "      <td>75.619</td>\n",
       "      <td>228224</td>\n",
       "      <td>4</td>\n",
       "      <td>44.10303</td>\n",
       "      <td>9</td>\n",
       "      <td>0</td>\n",
       "    </tr>\n",
       "    <tr>\n",
       "      <th>2</th>\n",
       "      <td>Reject of Society</td>\n",
       "      <td>Crass</td>\n",
       "      <td>spotify:track:18eNASEiuAhO2ML5LBIoG4</td>\n",
       "      <td>0.355</td>\n",
       "      <td>0.968</td>\n",
       "      <td>7</td>\n",
       "      <td>-4.687</td>\n",
       "      <td>1</td>\n",
       "      <td>0.1890</td>\n",
       "      <td>0.0504</td>\n",
       "      <td>0.000</td>\n",
       "      <td>0.1300</td>\n",
       "      <td>0.768</td>\n",
       "      <td>181.291</td>\n",
       "      <td>66800</td>\n",
       "      <td>3</td>\n",
       "      <td>25.23004</td>\n",
       "      <td>6</td>\n",
       "      <td>0</td>\n",
       "    </tr>\n",
       "    <tr>\n",
       "      <th>3</th>\n",
       "      <td>Yeah !</td>\n",
       "      <td>The Jets</td>\n",
       "      <td>spotify:track:1UlJzHc8E5EprQFJxjSyPL</td>\n",
       "      <td>0.598</td>\n",
       "      <td>0.891</td>\n",
       "      <td>6</td>\n",
       "      <td>-11.904</td>\n",
       "      <td>1</td>\n",
       "      <td>0.0552</td>\n",
       "      <td>0.0183</td>\n",
       "      <td>0.836</td>\n",
       "      <td>0.5790</td>\n",
       "      <td>0.826</td>\n",
       "      <td>144.383</td>\n",
       "      <td>155395</td>\n",
       "      <td>4</td>\n",
       "      <td>55.62066</td>\n",
       "      <td>7</td>\n",
       "      <td>0</td>\n",
       "    </tr>\n",
       "    <tr>\n",
       "      <th>4</th>\n",
       "      <td>Gotta Find A Way</td>\n",
       "      <td>The Moments</td>\n",
       "      <td>spotify:track:1Jtlirju8tUXTtvyZJAN5v</td>\n",
       "      <td>0.440</td>\n",
       "      <td>0.376</td>\n",
       "      <td>5</td>\n",
       "      <td>-10.939</td>\n",
       "      <td>1</td>\n",
       "      <td>0.0482</td>\n",
       "      <td>0.3480</td>\n",
       "      <td>0.000</td>\n",
       "      <td>0.0815</td>\n",
       "      <td>0.358</td>\n",
       "      <td>130.438</td>\n",
       "      <td>218333</td>\n",
       "      <td>4</td>\n",
       "      <td>34.90979</td>\n",
       "      <td>12</td>\n",
       "      <td>1</td>\n",
       "    </tr>\n",
       "  </tbody>\n",
       "</table>\n",
       "</div>"
      ],
      "text/plain": [
       "               track                artist  \\\n",
       "0            Porque?       Reginaldo Rossi   \n",
       "1          Free Jazz  Maria Teresa Luciani   \n",
       "2  Reject of Society                 Crass   \n",
       "3             Yeah !              The Jets   \n",
       "4   Gotta Find A Way           The Moments   \n",
       "\n",
       "                                    uri  danceability  energy  key  loudness  \\\n",
       "0  spotify:track:28KC2wl7jDv6Ms1Uc0OMpm         0.669   0.547    1    -9.873   \n",
       "1  spotify:track:0zagn8PNnM7pM8pz1gXOAD         0.291   0.300    1   -14.054   \n",
       "2  spotify:track:18eNASEiuAhO2ML5LBIoG4         0.355   0.968    7    -4.687   \n",
       "3  spotify:track:1UlJzHc8E5EprQFJxjSyPL         0.598   0.891    6   -11.904   \n",
       "4  spotify:track:1Jtlirju8tUXTtvyZJAN5v         0.440   0.376    5   -10.939   \n",
       "\n",
       "   mode  speechiness  acousticness  instrumentalness  liveness  valence  \\\n",
       "0     0       0.0576        0.3530             0.000    0.0515    0.730   \n",
       "1     0       0.0326        0.9050             0.492    0.1180    0.039   \n",
       "2     1       0.1890        0.0504             0.000    0.1300    0.768   \n",
       "3     1       0.0552        0.0183             0.836    0.5790    0.826   \n",
       "4     1       0.0482        0.3480             0.000    0.0815    0.358   \n",
       "\n",
       "     tempo  duration_ms  time_signature  chorus_hit  sections  target  \n",
       "0  131.073       141067               4    28.79763         6       0  \n",
       "1   75.619       228224               4    44.10303         9       0  \n",
       "2  181.291        66800               3    25.23004         6       0  \n",
       "3  144.383       155395               4    55.62066         7       0  \n",
       "4  130.438       218333               4    34.90979        12       1  "
      ]
     },
     "execution_count": 55,
     "metadata": {},
     "output_type": "execute_result"
    }
   ],
   "source": [
    "print(\"I'm taking this dataset which is the original one containing all the values and no dropped columns.\\n\\\n",
    "But this will change because i don't need some of the columns, they don't bring any value to the model.\")\n",
    "train_df.head()"
   ]
  },
  {
   "cell_type": "code",
   "execution_count": 56,
   "id": "c7fe477f",
   "metadata": {},
   "outputs": [
    {
     "name": "stdout",
     "output_type": "stream",
     "text": [
      "The model should be able to differentiate between hit songs and other songs, 0 indicates that the song is not a hit while 1 indicates that the song is hit.\n",
      "My target column is this:\n"
     ]
    }
   ],
   "source": [
    "print(\"The model should be able to differentiate between hit songs and other songs, 0 indicates that the song is not a hit while 1 indicates that the song is hit.\")\n",
    "print(\"My target column is this:\") \n",
    "target_col = train_df[\"target\"]"
   ]
  },
  {
   "cell_type": "code",
   "execution_count": null,
   "id": "657b9ee6",
   "metadata": {},
   "outputs": [],
   "source": []
  },
  {
   "cell_type": "code",
   "execution_count": 57,
   "id": "f631b7d4",
   "metadata": {},
   "outputs": [
    {
     "name": "stdout",
     "output_type": "stream",
     "text": [
      "Cleaning the dataset\n",
      "I need to remove track because songs' name is not important or has very little impact.\n",
      "*Arist is not valuable either, because a songs' success doesn't depend on artist(at least the first ones)\n",
      "*Uri - for obvious reasons\n",
      "*Key - I kind of don't understand it, so I won't be using it.\n",
      "*Target - this is the target column and it's dependant on the previous columns.\n"
     ]
    }
   ],
   "source": [
    "print(\"Cleaning the dataset\")\n",
    "print(f\"I need to remove track because songs' name is not important or has very little impact.\\n\\\n",
    "*Arist is not valuable either, because a songs' success doesn't depend on artist(at least the first ones)\\n\\\n",
    "*Uri - for obvious reasons\\n\\\n",
    "*Key - I kind of don't understand it, so I won't be using it.\\n\\\n",
    "*Target - this is the target column and it's dependant on the previous columns.\")\n",
    "\n",
    "train_df.drop([\"track\", \"artist\", \"uri\", \"key\", \"target\"], axis=1, inplace=True)"
   ]
  },
  {
   "cell_type": "code",
   "execution_count": null,
   "id": "4ccf1d87",
   "metadata": {},
   "outputs": [],
   "source": []
  },
  {
   "cell_type": "code",
   "execution_count": 58,
   "id": "b9fe699a",
   "metadata": {},
   "outputs": [
    {
     "name": "stdout",
     "output_type": "stream",
     "text": [
      "As you can see, almost all of the columns are between 0 and 1 which is going to help the algorithm to     converge faster, but there are some columns which have to be scaled down because neural networks don't         generally like too big values\n"
     ]
    }
   ],
   "source": [
    "print(\"As you can see, almost all of the columns are between 0 and 1 which is going to help the algorithm to \\\n",
    "    converge faster, but there are some columns which have to be scaled down because neural networks don't \\\n",
    "        generally like too big values\")"
   ]
  },
  {
   "cell_type": "code",
   "execution_count": 59,
   "id": "f28a0ae4",
   "metadata": {},
   "outputs": [
    {
     "name": "stdout",
     "output_type": "stream",
     "text": [
      "First, make sure that duration is in minutes.\n"
     ]
    }
   ],
   "source": [
    "train_df[\"duration_ms\"] = [x / 1_000_00 for x in train_df[\"duration_ms\"]]\n",
    "train_df.rename_axis(columns={\"duration_ms\":\"duration_minutes\"}, inplace=True)\n",
    "print(\"First, make sure that duration is in minutes.\")"
   ]
  },
  {
   "cell_type": "code",
   "execution_count": 60,
   "id": "58dcc3b5",
   "metadata": {},
   "outputs": [
    {
     "data": {
      "text/html": [
       "<div>\n",
       "<style scoped>\n",
       "    .dataframe tbody tr th:only-of-type {\n",
       "        vertical-align: middle;\n",
       "    }\n",
       "\n",
       "    .dataframe tbody tr th {\n",
       "        vertical-align: top;\n",
       "    }\n",
       "\n",
       "    .dataframe thead th {\n",
       "        text-align: right;\n",
       "    }\n",
       "</style>\n",
       "<table border=\"1\" class=\"dataframe\">\n",
       "  <thead>\n",
       "    <tr style=\"text-align: right;\">\n",
       "      <th></th>\n",
       "      <th>danceability</th>\n",
       "      <th>energy</th>\n",
       "      <th>loudness</th>\n",
       "      <th>mode</th>\n",
       "      <th>speechiness</th>\n",
       "      <th>acousticness</th>\n",
       "      <th>instrumentalness</th>\n",
       "      <th>liveness</th>\n",
       "      <th>valence</th>\n",
       "      <th>tempo</th>\n",
       "      <th>duration_ms</th>\n",
       "      <th>time_signature</th>\n",
       "      <th>chorus_hit</th>\n",
       "      <th>sections</th>\n",
       "    </tr>\n",
       "  </thead>\n",
       "  <tbody>\n",
       "    <tr>\n",
       "      <th>0</th>\n",
       "      <td>0.669</td>\n",
       "      <td>0.547</td>\n",
       "      <td>-9.873</td>\n",
       "      <td>0</td>\n",
       "      <td>0.0576</td>\n",
       "      <td>0.3530</td>\n",
       "      <td>0.000</td>\n",
       "      <td>0.0515</td>\n",
       "      <td>0.730</td>\n",
       "      <td>131.073</td>\n",
       "      <td>1.41067</td>\n",
       "      <td>4</td>\n",
       "      <td>28.79763</td>\n",
       "      <td>6</td>\n",
       "    </tr>\n",
       "    <tr>\n",
       "      <th>1</th>\n",
       "      <td>0.291</td>\n",
       "      <td>0.300</td>\n",
       "      <td>-14.054</td>\n",
       "      <td>0</td>\n",
       "      <td>0.0326</td>\n",
       "      <td>0.9050</td>\n",
       "      <td>0.492</td>\n",
       "      <td>0.1180</td>\n",
       "      <td>0.039</td>\n",
       "      <td>75.619</td>\n",
       "      <td>2.28224</td>\n",
       "      <td>4</td>\n",
       "      <td>44.10303</td>\n",
       "      <td>9</td>\n",
       "    </tr>\n",
       "    <tr>\n",
       "      <th>2</th>\n",
       "      <td>0.355</td>\n",
       "      <td>0.968</td>\n",
       "      <td>-4.687</td>\n",
       "      <td>1</td>\n",
       "      <td>0.1890</td>\n",
       "      <td>0.0504</td>\n",
       "      <td>0.000</td>\n",
       "      <td>0.1300</td>\n",
       "      <td>0.768</td>\n",
       "      <td>181.291</td>\n",
       "      <td>0.66800</td>\n",
       "      <td>3</td>\n",
       "      <td>25.23004</td>\n",
       "      <td>6</td>\n",
       "    </tr>\n",
       "    <tr>\n",
       "      <th>3</th>\n",
       "      <td>0.598</td>\n",
       "      <td>0.891</td>\n",
       "      <td>-11.904</td>\n",
       "      <td>1</td>\n",
       "      <td>0.0552</td>\n",
       "      <td>0.0183</td>\n",
       "      <td>0.836</td>\n",
       "      <td>0.5790</td>\n",
       "      <td>0.826</td>\n",
       "      <td>144.383</td>\n",
       "      <td>1.55395</td>\n",
       "      <td>4</td>\n",
       "      <td>55.62066</td>\n",
       "      <td>7</td>\n",
       "    </tr>\n",
       "    <tr>\n",
       "      <th>4</th>\n",
       "      <td>0.440</td>\n",
       "      <td>0.376</td>\n",
       "      <td>-10.939</td>\n",
       "      <td>1</td>\n",
       "      <td>0.0482</td>\n",
       "      <td>0.3480</td>\n",
       "      <td>0.000</td>\n",
       "      <td>0.0815</td>\n",
       "      <td>0.358</td>\n",
       "      <td>130.438</td>\n",
       "      <td>2.18333</td>\n",
       "      <td>4</td>\n",
       "      <td>34.90979</td>\n",
       "      <td>12</td>\n",
       "    </tr>\n",
       "  </tbody>\n",
       "</table>\n",
       "</div>"
      ],
      "text/plain": [
       "   danceability  energy  loudness  mode  speechiness  acousticness  \\\n",
       "0         0.669   0.547    -9.873     0       0.0576        0.3530   \n",
       "1         0.291   0.300   -14.054     0       0.0326        0.9050   \n",
       "2         0.355   0.968    -4.687     1       0.1890        0.0504   \n",
       "3         0.598   0.891   -11.904     1       0.0552        0.0183   \n",
       "4         0.440   0.376   -10.939     1       0.0482        0.3480   \n",
       "\n",
       "   instrumentalness  liveness  valence    tempo  duration_ms  time_signature  \\\n",
       "0             0.000    0.0515    0.730  131.073      1.41067               4   \n",
       "1             0.492    0.1180    0.039   75.619      2.28224               4   \n",
       "2             0.000    0.1300    0.768  181.291      0.66800               3   \n",
       "3             0.836    0.5790    0.826  144.383      1.55395               4   \n",
       "4             0.000    0.0815    0.358  130.438      2.18333               4   \n",
       "\n",
       "   chorus_hit  sections  \n",
       "0    28.79763         6  \n",
       "1    44.10303         9  \n",
       "2    25.23004         6  \n",
       "3    55.62066         7  \n",
       "4    34.90979        12  "
      ]
     },
     "execution_count": 60,
     "metadata": {},
     "output_type": "execute_result"
    }
   ],
   "source": [
    "train_df.head()"
   ]
  },
  {
   "cell_type": "code",
   "execution_count": null,
   "id": "bc1c079e",
   "metadata": {},
   "outputs": [],
   "source": []
  },
  {
   "cell_type": "code",
   "execution_count": 61,
   "id": "1f325396",
   "metadata": {},
   "outputs": [
    {
     "name": "stdout",
     "output_type": "stream",
     "text": [
      "Next step is to copy the dataset and make it a matrix or list of lists.\n"
     ]
    }
   ],
   "source": [
    "X = np.array(train_df.iloc[:,:])\n",
    "print(\"Next step is to copy the dataset and make it a matrix or list of lists.\")"
   ]
  },
  {
   "cell_type": "code",
   "execution_count": 62,
   "id": "ef3ff864",
   "metadata": {},
   "outputs": [
    {
     "name": "stdout",
     "output_type": "stream",
     "text": [
      "We then proceed with splitting the dataset into 4 different smaller datasets.\n",
      "*X_train and X_test will have the same number of columns, the only difference is that X_train rows will be much large..5x larget to be exact.\n",
      "*y_train and y_test both have (n,) shapes.\n"
     ]
    }
   ],
   "source": [
    "X_train, X_test, y_train, y_test = train_test_split(X, target_col, test_size=0.2)\n",
    "print(f\"We then proceed with splitting the dataset into 4 different smaller datasets.\\n\\\n",
    "*X_train and X_test will have the same number of columns, the only difference is that X_train rows will be much large..5x larget to be exact.\\n\\\n",
    "*y_train and y_test both have (n,) shapes.\")"
   ]
  },
  {
   "cell_type": "code",
   "execution_count": null,
   "id": "697a9a7d",
   "metadata": {},
   "outputs": [],
   "source": []
  },
  {
   "cell_type": "code",
   "execution_count": 63,
   "id": "895d0ec8",
   "metadata": {},
   "outputs": [
    {
     "name": "stdout",
     "output_type": "stream",
     "text": [
      "X_train shape: (32884, 14)\n",
      "X_test shape: (8222, 14)\n",
      "y_train shape: (32884,)\n",
      "y_test shape: (8222,)\n"
     ]
    }
   ],
   "source": [
    "print(\"X_train shape:\", X_train.shape)\n",
    "print(\"X_test shape:\", X_test.shape)\n",
    "print(\"y_train shape:\", y_train.shape)\n",
    "print(\"y_test shape:\", y_test.shape)"
   ]
  },
  {
   "cell_type": "code",
   "execution_count": null,
   "id": "a328aa7a",
   "metadata": {},
   "outputs": [],
   "source": []
  },
  {
   "cell_type": "code",
   "execution_count": 64,
   "id": "ca8c39eb",
   "metadata": {},
   "outputs": [
    {
     "name": "stdout",
     "output_type": "stream",
     "text": [
      "I still need to scaled all the values in order for the model to converge or to converge faster.\n",
      "    I'm using StandardScaler but there are multiple scalers across the internet.\n"
     ]
    }
   ],
   "source": [
    "scaler = StandardScaler()\n",
    "X_train = scaler.fit_transform(X_train)\n",
    "X_test = scaler.fit_transform(X_test)\n",
    "print(\"I still need to scaled all the values in order for the model to converge or to converge faster.\\n\\\n",
    "    I'm using StandardScaler but there are multiple scalers across the internet.\")"
   ]
  },
  {
   "cell_type": "code",
   "execution_count": 65,
   "id": "d5f2596c",
   "metadata": {},
   "outputs": [
    {
     "name": "stdout",
     "output_type": "stream",
     "text": [
      "This is somewhat overgeneralized keras module, but in the future I'm going to use torch.\n",
      "This Sequential class alows me to keep adding more layers in a sequential manner i.e. one after the other.\n"
     ]
    },
    {
     "name": "stderr",
     "output_type": "stream",
     "text": [
      "2022-08-25 14:01:14.123687: E tensorflow/stream_executor/cuda/cuda_driver.cc:271] failed call to cuInit: CUDA_ERROR_NO_DEVICE: no CUDA-capable device is detected\n",
      "2022-08-25 14:01:14.123736: I tensorflow/stream_executor/cuda/cuda_diagnostics.cc:156] kernel driver does not appear to be running on this host (pop-os): /proc/driver/nvidia/version does not exist\n",
      "2022-08-25 14:01:14.125358: I tensorflow/core/platform/cpu_feature_guard.cc:193] This TensorFlow binary is optimized with oneAPI Deep Neural Network Library (oneDNN) to use the following CPU instructions in performance-critical operations:  AVX2 AVX512F AVX512_VNNI FMA\n",
      "To enable them in other operations, rebuild TensorFlow with the appropriate compiler flags.\n"
     ]
    }
   ],
   "source": [
    "classifier = Sequential()\n",
    "print(\"This is somewhat overgeneralized keras module, but in the future I'm going to use torch.\\n\\\n",
    "This Sequential class alows me to keep adding more layers in a sequential manner i.e. one after the other.\")"
   ]
  },
  {
   "cell_type": "code",
   "execution_count": null,
   "id": "662e8b00",
   "metadata": {},
   "outputs": [],
   "source": []
  },
  {
   "cell_type": "code",
   "execution_count": 66,
   "id": "7099519a",
   "metadata": {},
   "outputs": [
    {
     "name": "stdout",
     "output_type": "stream",
     "text": [
      "KerasTensor(type_spec=TensorSpec(shape=(None, 14), dtype=tf.float32, name='input_2'), name='input_2', description=\"created by layer 'input_2'\")\n",
      "\n",
      "\n",
      "This layer is the first layer to the model. It indicates that the data will come with 14 cols, the rows and cols swapped when in tensors.\n",
      "It will also make the numpy array into tensors array in other words matrix of tensors. This is because the library doesn't really work with numpy or any other arrays, they must be of type tensors.\n"
     ]
    }
   ],
   "source": [
    "classifier.add(Input(shape=(14,)))\n",
    "something = Input(shape=(14,))\n",
    "print(something)\n",
    "print(\"\\n\")\n",
    "print(\"This layer is the first layer to the model. It indicates that the data will come with 14 cols, the rows and cols swapped when in tensors.\\n\\\n",
    "It will also make the numpy array into tensors array in other words matrix of tensors. This is because the library doesn't really work with numpy or any other arrays, they must be of type tensors.\")"
   ]
  },
  {
   "cell_type": "code",
   "execution_count": null,
   "id": "4c149f5d",
   "metadata": {},
   "outputs": [],
   "source": []
  },
  {
   "cell_type": "code",
   "execution_count": 67,
   "id": "b44d9675",
   "metadata": {},
   "outputs": [
    {
     "name": "stdout",
     "output_type": "stream",
     "text": [
      "Quite a lot of things are going on in here. Firstly i'm adding to the model a dense layer.\n",
      "The dense layers represent layers N number of neurons. Each individual neuron has its own weight and i have one more parameter specifying that i want bias attached to the neuron as well.\n",
      "After this i specified that the activation function is relu. It is pretty much the most straightforward activation function for neuron activation(apart from the step function). Essentially the output of the neuron is forward propagated if it is more than 0\n"
     ]
    }
   ],
   "source": [
    "classifier.add(Dense(units=200, activation=\"relu\", use_bias=True))\n",
    "print(\"Quite a lot of things are going on in here. Firstly i'm adding to the model a dense layer.\\n\\\n",
    "The dense layers represent layers N number of neurons. Each individual neuron has its own weight and i have one more parameter specifying that i want bias attached to the neuron as well.\\n\\\n",
    "After this i specified that the activation function is relu. It is pretty much the most straightforward activation function for neuron activation(apart from the step function). Essentially the output of the neuron is forward propagated if it is more than 0\")"
   ]
  },
  {
   "cell_type": "markdown",
   "id": "add86d36",
   "metadata": {},
   "source": []
  },
  {
   "cell_type": "code",
   "execution_count": 68,
   "id": "3fc0d8af",
   "metadata": {},
   "outputs": [
    {
     "name": "stdout",
     "output_type": "stream",
     "text": [
      "So, this layer applies what's been known as dropout with rate of 0.3,which means that it sets the input to the neuron to 0 (doesn't propagate anything). This is done to prevent overfitting to the data.\n"
     ]
    }
   ],
   "source": [
    "classifier.add(Dropout(0.3))\n",
    "print(\"So, this layer applies what's been known as dropout with rate of 0.3,which means that it sets the input to the neuron to 0 (doesn't propagate anything). This is done to prevent overfitting to the data.\")"
   ]
  },
  {
   "cell_type": "code",
   "execution_count": null,
   "id": "a3709105",
   "metadata": {},
   "outputs": [],
   "source": []
  },
  {
   "cell_type": "code",
   "execution_count": 69,
   "id": "6cc0d497",
   "metadata": {},
   "outputs": [
    {
     "name": "stdout",
     "output_type": "stream",
     "text": [
      "Adding one more dense layer to the model. This is exactly what i was talking about the sequential layer. I can add layers till my computers' resources run out and they are one after the other.\n"
     ]
    }
   ],
   "source": [
    "classifier.add(Dense(units=150, activation=\"relu\", use_bias=True))\n",
    "print(\"Adding one more dense layer to the model. This is exactly what i was talking about the sequential layer. I can add layers till my computers' resources run out and they are one after the other.\")"
   ]
  },
  {
   "cell_type": "code",
   "execution_count": null,
   "id": "6d3c6d3e",
   "metadata": {},
   "outputs": [],
   "source": []
  },
  {
   "cell_type": "code",
   "execution_count": 70,
   "id": "93d70638",
   "metadata": {},
   "outputs": [
    {
     "name": "stdout",
     "output_type": "stream",
     "text": [
      "Since our classifier(model) should predict values between 0 and 1, we need the appropriate activation fucntion for this task. I've alredy used relu, but it only returns outputs greater than 0, it's not going to work for this model. I need an activation function that maps the outputs between 0 and 1 (preferably). Sigmoid is exactly like this. It maps the confidence of the model between 0 and 1. And the units are equal to 1 because this is the last layer of the model.\n"
     ]
    }
   ],
   "source": [
    "classifier.add(Dense(units=1,activation=\"sigmoid\"))\n",
    "print(\"Since our classifier(model) should predict values between 0 and 1, we need the appropriate activation fucntion for this task. I've alredy used relu, but it only returns outputs greater than 0, it's not going to work for this model. I need an activation function that maps the outputs between 0 and 1 (preferably). Sigmoid is exactly like this. It maps the confidence of the model between 0 and 1. And the units are equal to 1 because this is the last layer of the model.\")"
   ]
  },
  {
   "cell_type": "code",
   "execution_count": null,
   "id": "e89ed0c1",
   "metadata": {},
   "outputs": [],
   "source": []
  },
  {
   "cell_type": "code",
   "execution_count": 71,
   "id": "131af56b",
   "metadata": {},
   "outputs": [
    {
     "name": "stdout",
     "output_type": "stream",
     "text": [
      "So, the optimizer helps us to approximate the best fitting line/values for a dataset. Based on the error of the model, the optimizer then goes through the whole network, starting from the last unit. This is called backpropagation(which i started to look into deeply), but in essence the optimizer changes the weights of the neurons depending of how much the output of the model is different from the actual input. For some of the bigger models there is a problem called vanishing gradient, which means that the rate with which the weights are calculated at the very beginning layers of the model, is very close to 0 and that way the weights are almost static at those layers.\n",
      "\n",
      "The loss is simply the difference between actual and predicted values.\n",
      "\n",
      "Metrics is a parameter that will show in the training phase, meaning the accuracy of the predictions.\n"
     ]
    }
   ],
   "source": [
    "classifier.compile(optimizer=\"sgd\", loss=\"binary_crossentropy\", metrics=[\"accuracy\"])\n",
    "print(\"So, the optimizer helps us to approximate the best fitting line/values for a dataset. Based on the error of the model, the optimizer then goes through the whole network, starting from the last unit. This is called backpropagation(which i started to look into deeply), but in essence the optimizer changes the weights of the neurons depending of how much the output of the model is different from the actual input. For some of the bigger models there is a problem called vanishing gradient, which means that the rate with which the weights are calculated at the very beginning layers of the model, is very close to 0 and that way the weights are almost static at those layers.\\n\")\n",
    "print(\"The loss is simply the difference between actual and predicted values.\\n\")\n",
    "print(\"Metrics is a parameter that will show in the training phase, meaning the accuracy of the predictions.\")"
   ]
  },
  {
   "cell_type": "code",
   "execution_count": null,
   "id": "7828d2dc",
   "metadata": {},
   "outputs": [],
   "source": []
  },
  {
   "cell_type": "code",
   "execution_count": 72,
   "id": "20c7e0bd",
   "metadata": {},
   "outputs": [
    {
     "name": "stdout",
     "output_type": "stream",
     "text": [
      "Epoch 1/5\n",
      "1316/1316 [==============================] - 1s 584us/step - loss: 0.5594 - accuracy: 0.7023\n",
      "Epoch 2/5\n",
      "1316/1316 [==============================] - 1s 633us/step - loss: 0.5154 - accuracy: 0.7429\n",
      "Epoch 3/5\n",
      "1316/1316 [==============================] - 1s 651us/step - loss: 0.5035 - accuracy: 0.7522\n",
      "Epoch 4/5\n",
      "1316/1316 [==============================] - 1s 765us/step - loss: 0.4989 - accuracy: 0.7540\n",
      "Epoch 5/5\n",
      "1316/1316 [==============================] - 1s 764us/step - loss: 0.4944 - accuracy: 0.7566\n",
      "\n",
      "\n",
      "\n",
      "So, this is the training phase of the model. We fit the independant variables and the dependant variables. Corresponding to one row of X_train we have one value from y_train. So the issue the model has to resolve is to find correlations between one row of X_train and one value of y_train.\n",
      "The batch size indicates that the model takes for example 25 rows of data and when every loss is calculated, then the weights are updated, which could help the algorithm run faster and not to take too much resources.\n",
      "Epochs means that the all the rows from the dataset will go through the model 5 times. If i run the model let's say 100 times, the model will overfit to the training data and will do poorly on the testing data, which is a problem.\n"
     ]
    }
   ],
   "source": [
    "classifier.fit(X_train, y_train, batch_size=25, epochs=5) \n",
    "print(\"\\n\\n\")\n",
    "print(\"So, this is the training phase of the model. We fit the independant variables and the dependant variables. Corresponding to one row of X_train we have one value from y_train. So the issue the model has to resolve is to find correlations between one row of X_train and one value of y_train.\")\n",
    "print(\"The batch size indicates that the model takes for example 25 rows of data and when every loss is calculated, then the weights are updated, which could help the algorithm run faster and not to take too much resources.\")\n",
    "print(\"Epochs means that the all the rows from the dataset will go through the model 5 times. If i run the model let's say 100 times, the model will overfit to the training data and will do poorly on the testing data, which is a problem.\")"
   ]
  },
  {
   "cell_type": "code",
   "execution_count": null,
   "id": "9a25debb",
   "metadata": {},
   "outputs": [],
   "source": []
  },
  {
   "cell_type": "code",
   "execution_count": 73,
   "id": "ca088743",
   "metadata": {},
   "outputs": [
    {
     "name": "stdout",
     "output_type": "stream",
     "text": [
      "257/257 [==============================] - 0s 394us/step\n",
      "\n",
      "\n",
      "Once the model is trained on the training set, we want to test its predictions on the testing set. So now i'm using the model to predict values on X_train which will result in a list of values between 0 and 1.\n"
     ]
    }
   ],
   "source": [
    "y_pred = classifier.predict(X_test)\n",
    "print(\"\\n\")\n",
    "print(\"Once the model is trained on the training set, we want to test its predictions on the testing set. So now i'm using the model to predict values on X_train which will result in a list of values between 0 and 1.\")"
   ]
  },
  {
   "cell_type": "code",
   "execution_count": 74,
   "id": "edc952d9",
   "metadata": {},
   "outputs": [
    {
     "name": "stdout",
     "output_type": "stream",
     "text": [
      "Taking the values which are above 0.5 and those below are set to False\n"
     ]
    }
   ],
   "source": [
    "y_pred = y_pred > 0.5\n",
    "print(\"Taking the values which are above 0.5 and those below are set to False\")"
   ]
  },
  {
   "cell_type": "code",
   "execution_count": 75,
   "id": "ef696fc6",
   "metadata": {},
   "outputs": [
    {
     "name": "stdout",
     "output_type": "stream",
     "text": [
      "I'm going to sum up all our result in one matrix 2x2 which is going to tell us how did the model perform.\n",
      "\n",
      "[[2842 1219]\n",
      " [ 690 3471]]\n"
     ]
    }
   ],
   "source": [
    "cm = confusion_matrix(y_test, y_pred)\n",
    "print(\"I'm going to sum up all our result in one matrix 2x2 which is going to tell us how did the model perform.\\n\")\n",
    "print(cm)"
   ]
  },
  {
   "cell_type": "code",
   "execution_count": 76,
   "id": "32956137",
   "metadata": {},
   "outputs": [],
   "source": [
    "right = cm[0][0] + cm[1][1]\n",
    "wrong = cm[0][1] + cm[1][0]\n",
    "all_of_them = right + wrong"
   ]
  },
  {
   "cell_type": "code",
   "execution_count": 77,
   "id": "d63d899b",
   "metadata": {},
   "outputs": [
    {
     "name": "stdout",
     "output_type": "stream",
     "text": [
      "0.7678180491364631\n"
     ]
    }
   ],
   "source": [
    "result = right / all_of_them\n",
    "print(result)"
   ]
  },
  {
   "cell_type": "code",
   "execution_count": 78,
   "id": "92519529",
   "metadata": {},
   "outputs": [
    {
     "name": "stdout",
     "output_type": "stream",
     "text": [
      "So the final number on the testing set is 0.77.\n",
      "I would say that it's pretty good accuracy for such a small model.\n"
     ]
    }
   ],
   "source": [
    "print(f\"So the final number on the testing set is {round(result, 2)}.\\nI would say that it's pretty good accuracy for such a small model.\")"
   ]
  },
  {
   "cell_type": "code",
   "execution_count": 79,
   "id": "d2a5cda2",
   "metadata": {},
   "outputs": [
    {
     "name": "stdout",
     "output_type": "stream",
     "text": [
      "And now we could try to pass our own parameters once the model has learnt all the weights and see whether we've assembled with these parameteres that could actually be a hit.\n"
     ]
    }
   ],
   "source": [
    "print(\"And now we could try to pass our own parameters once the model has learnt all the weights and see whether we've assembled with these parameteres that could actually be a hit.\")"
   ]
  },
  {
   "cell_type": "code",
   "execution_count": 80,
   "id": "0ddc33dc",
   "metadata": {},
   "outputs": [
    {
     "data": {
      "text/html": [
       "<div>\n",
       "<style scoped>\n",
       "    .dataframe tbody tr th:only-of-type {\n",
       "        vertical-align: middle;\n",
       "    }\n",
       "\n",
       "    .dataframe tbody tr th {\n",
       "        vertical-align: top;\n",
       "    }\n",
       "\n",
       "    .dataframe thead th {\n",
       "        text-align: right;\n",
       "    }\n",
       "</style>\n",
       "<table border=\"1\" class=\"dataframe\">\n",
       "  <thead>\n",
       "    <tr style=\"text-align: right;\">\n",
       "      <th></th>\n",
       "      <th>danceability</th>\n",
       "      <th>energy</th>\n",
       "      <th>loudness</th>\n",
       "      <th>mode</th>\n",
       "      <th>speechiness</th>\n",
       "      <th>acousticness</th>\n",
       "      <th>instrumentalness</th>\n",
       "      <th>liveness</th>\n",
       "      <th>valence</th>\n",
       "      <th>tempo</th>\n",
       "      <th>duration_ms</th>\n",
       "      <th>time_signature</th>\n",
       "      <th>chorus_hit</th>\n",
       "      <th>sections</th>\n",
       "    </tr>\n",
       "  </thead>\n",
       "  <tbody>\n",
       "    <tr>\n",
       "      <th>0</th>\n",
       "      <td>0.669</td>\n",
       "      <td>0.547</td>\n",
       "      <td>-9.873</td>\n",
       "      <td>0</td>\n",
       "      <td>0.0576</td>\n",
       "      <td>0.353</td>\n",
       "      <td>0.0</td>\n",
       "      <td>0.0515</td>\n",
       "      <td>0.73</td>\n",
       "      <td>131.073</td>\n",
       "      <td>1.41067</td>\n",
       "      <td>4</td>\n",
       "      <td>28.79763</td>\n",
       "      <td>6</td>\n",
       "    </tr>\n",
       "  </tbody>\n",
       "</table>\n",
       "</div>"
      ],
      "text/plain": [
       "   danceability  energy  loudness  mode  speechiness  acousticness  \\\n",
       "0         0.669   0.547    -9.873     0       0.0576         0.353   \n",
       "\n",
       "   instrumentalness  liveness  valence    tempo  duration_ms  time_signature  \\\n",
       "0               0.0    0.0515     0.73  131.073      1.41067               4   \n",
       "\n",
       "   chorus_hit  sections  \n",
       "0    28.79763         6  "
      ]
     },
     "execution_count": 80,
     "metadata": {},
     "output_type": "execute_result"
    }
   ],
   "source": [
    "train_df.head(1)"
   ]
  },
  {
   "cell_type": "code",
   "execution_count": 81,
   "id": "76940d5d",
   "metadata": {},
   "outputs": [
    {
     "name": "stdout",
     "output_type": "stream",
     "text": [
      "1/1 [==============================] - 0s 18ms/step\n"
     ]
    }
   ],
   "source": [
    "predicted_song = classifier.predict(scaler.transform(np.array([[0.8, 0.6, -8.23, 0, 0.08, 0.2, 0.0, 0.1, 0.6, 120, 3.2, 4, 15, 5]])))"
   ]
  },
  {
   "cell_type": "code",
   "execution_count": 82,
   "id": "90749a8e",
   "metadata": {},
   "outputs": [],
   "source": [
    "predicted_song = predicted_song > 0.5"
   ]
  },
  {
   "cell_type": "code",
   "execution_count": 83,
   "id": "2ac4df6d",
   "metadata": {},
   "outputs": [
    {
     "data": {
      "text/plain": [
       "array([[ True]])"
      ]
     },
     "execution_count": 83,
     "metadata": {},
     "output_type": "execute_result"
    }
   ],
   "source": [
    "predicted_song"
   ]
  },
  {
   "cell_type": "code",
   "execution_count": 84,
   "id": "0091a1fd",
   "metadata": {},
   "outputs": [
    {
     "name": "stdout",
     "output_type": "stream",
     "text": [
      "With these parameters our song is going to be hit.\n"
     ]
    }
   ],
   "source": [
    "print(\"With these parameters our song is going to be hit.\")"
   ]
  },
  {
   "cell_type": "markdown",
   "id": "116e82f2",
   "metadata": {},
   "source": [
    "<center>\n",
    "    This is the end, we've predicted whether a song could be hit with a 77% effectiveness, and as I've stated before, most of the songs are songs that you could dance to or sing to. Most of them are positive and the duration is around 3 minutes. Successfully managed to predict a single song with the model.\n",
    "<center>    "
   ]
  },
  {
   "cell_type": "code",
   "execution_count": null,
   "id": "db657556",
   "metadata": {},
   "outputs": [],
   "source": []
  }
 ],
 "metadata": {
  "kernelspec": {
   "display_name": "Python 3 (ipykernel)",
   "language": "python",
   "name": "python3"
  },
  "language_info": {
   "codemirror_mode": {
    "name": "ipython",
    "version": 3
   },
   "file_extension": ".py",
   "mimetype": "text/x-python",
   "name": "python",
   "nbconvert_exporter": "python",
   "pygments_lexer": "ipython3",
   "version": "3.10.4"
  }
 },
 "nbformat": 4,
 "nbformat_minor": 5
}
